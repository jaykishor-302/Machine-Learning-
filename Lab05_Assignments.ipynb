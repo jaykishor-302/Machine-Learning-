{
 "cells": [
  {
   "cell_type": "code",
   "execution_count": null,
   "id": "9b7aeaf7-58a2-4c79-9209-49a5a5401ee2",
   "metadata": {},
   "outputs": [],
   "source": [
    "import pandas as pd\n",
    "import numpy as np\n",
    "from sklearn.model_selection import train_test_split\n",
    "from sklearn.linear_model import LinearRegression\n",
    "from sklearn.metrics import mean_squared_error, r2_score, mean_absolute_percentage_error\n",
    "from sklearn.cluster import KMeans\n",
    "from sklearn.metrics import silhouette_score, calinski_harabasz_score, davies_bouldin_score\n",
    "import matplotlib.pyplot as plt\n",
    "\n",
    "\n",
    "data = pd.read_csv(r'DCT_withoutduplicate 5.csv')\n"
   ]
  },
  {
   "cell_type": "markdown",
   "id": "1224617d-6d7e-4c87-9f40-2ad3aaacac6c",
   "metadata": {},
   "source": [
    "**A1.**"
   ]
  },
  {
   "cell_type": "code",
   "execution_count": 7,
   "id": "22693ef5-82c2-42fd-95b2-321ffe65b641",
   "metadata": {},
   "outputs": [],
   "source": [
    "\n",
    "def linear_regression_model(data, target_variable, test_size):\n",
    "    \n",
    "    # Separate features and target variable as X and y respectively\n",
    "    X = data.drop(columns = target_variable)\n",
    "    y = data[target_variable]\n",
    "\n",
    "    # taking first column as features & Label column as target\n",
    "    X_train = X.iloc[:, [0]]\n",
    "    y_train = y\n",
    "    \n",
    "    # Split the data into training and test sets\n",
    "    X_train, X_test, y_train, y_test = train_test_split(X, y, test_size=test_size, random_state=42)\n",
    "    \n",
    "    # Initialize and train the model\n",
    "    reg = LinearRegression().fit(X_train, y_train)\n",
    "    \n",
    "    # Predictions\n",
    "    y_train_pred = reg.predict(X_train)\n",
    "    y_test_pred = reg.predict(X_test)\n",
    "\n",
    "target_variable = 'LABEL'\n",
    "linear_regression_model(data, target_variable, 0.2)\n"
   ]
  },
  {
   "cell_type": "code",
   "execution_count": null,
   "id": "93cda5b8-f4ef-4b22-a11e-93bb02f0dabc",
   "metadata": {},
   "outputs": [],
   "source": []
  }
 ],
 "metadata": {
  "kernelspec": {
   "display_name": "Python 3 (ipykernel)",
   "language": "python",
   "name": "python3"
  },
  "language_info": {
   "codemirror_mode": {
    "name": "ipython",
    "version": 3
   },
   "file_extension": ".py",
   "mimetype": "text/x-python",
   "name": "python",
   "nbconvert_exporter": "python",
   "pygments_lexer": "ipython3",
   "version": "3.10.12"
  }
 },
 "nbformat": 4,
 "nbformat_minor": 5
}
