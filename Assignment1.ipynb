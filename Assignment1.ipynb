{
 "cells": [
  {
   "cell_type": "code",
   "execution_count": 1,
   "id": "f557f6bc",
   "metadata": {},
   "outputs": [
    {
     "name": "stdout",
     "output_type": "stream",
     "text": [
      "The total number of pairs are  4\n"
     ]
    }
   ],
   "source": [
    "# Consider the given list as [2, 7, 4, 1, 3, 6]. Write a program to count pairs of elements with \n",
    "# sum equal to 10.\n",
    "\n",
    "def countPairs(arr,target):\n",
    "  count=0\n",
    "  for i in arr:\n",
    "    num = target - i\n",
    "    if num in arr and num != i:\n",
    "      count+=1\n",
    "  return count\n",
    "\n",
    "\n",
    "arr = [2,7,4,1,3,6]\n",
    "target = 10\n",
    "pair = countPairs(arr, target)\n",
    "print(\"The total number of pairs are \",pair )\n"
   ]
  },
  {
   "cell_type": "code",
   "execution_count": 2,
   "id": "2da08aae",
   "metadata": {},
   "outputs": [
    {
     "name": "stdout",
     "output_type": "stream",
     "text": [
      "Enter the size of the list : 6\n",
      "Enter element at index 0 : 5\n",
      "Enter element at index 1 : 3\n",
      "Enter element at index 2 : 8\n",
      "Enter element at index 3 : 1\n",
      "Enter element at index 4 : 0\n",
      "Enter element at index 5 : 5\n",
      "The range of the list is  8\n"
     ]
    }
   ],
   "source": [
    "def difference(arr):\n",
    "  if (len(arr) <  3 ):\n",
    "    return -1\n",
    "\n",
    "  maximum = max(arr)\n",
    "  minimum = min(arr)\n",
    "  return (int(maximum) - int(minimum))\n",
    "\n",
    "list_size = int(input(\"Enter the size of the list : \"))\n",
    "arr = []\n",
    "\n",
    "for i in range(list_size):\n",
    "  element = input(f\"Enter element at index {i} : \")\n",
    "  arr.append(element)\n",
    "\n",
    "range1 = difference(arr)\n",
    "if range1 == -1:\n",
    "  print(\"Range determination not possible\")\n",
    "else:\n",
    "  print(\"The range of the list is \", range1)\n"
   ]
  },
  {
   "cell_type": "code",
   "execution_count": 3,
   "id": "4cabb81d",
   "metadata": {},
   "outputs": [
    {
     "name": "stdout",
     "output_type": "stream",
     "text": [
      "[37, 54]\n",
      "[81, 118]\n"
     ]
    }
   ],
   "source": [
    "def matrix_(A, B):\n",
    "    n = len(A)\n",
    "    C = [[0] * n for _ in range(n)]\n",
    "    for i in range(n):\n",
    "        for j in range(n):\n",
    "            for k in range(n):\n",
    "                C[i][j] += A[i][k] * B[k][j]\n",
    "    return C\n",
    "\n",
    "def matrixPWD(A, m):\n",
    "    n = len(A)\n",
    "\n",
    "    result = [[1 if i == j else 0 for j in range(n)] for i in range(n)]\n",
    "\n",
    "    base = A\n",
    "\n",
    "    while m > 0:\n",
    "        if m % 2 == 1:\n",
    "            result = matrix_(result, base)\n",
    "        base = matrix_(base, base)\n",
    "        m //= 2\n",
    "\n",
    "    return result\n",
    "\n",
    "A = [[1, 2],\n",
    "     [3, 4]]\n",
    "m = 3\n",
    "\n",
    "result = matrixPWD(A, m)\n",
    "for row in result:\n",
    "    print(row)\n"
   ]
  },
  {
   "cell_type": "code",
   "execution_count": 4,
   "id": "57f0347c",
   "metadata": {},
   "outputs": [
    {
     "name": "stdout",
     "output_type": "stream",
     "text": [
      "Enter a string: jaykishor\n",
      "Maximum Char occurrence in the string is ['j', 'a', 'y', 'k', 'i', 's', 'h', 'o', 'r']  and frequency 1\n"
     ]
    }
   ],
   "source": [
    "def highest_occurrence_char(s):\n",
    "    char_count = {}\n",
    "    for char in s:\n",
    "        if char != ' ':\n",
    "            char_count[char] = char_count.get(char, 0) + 1\n",
    "\n",
    "    max_count = max(char_count.values())\n",
    "    max_char = [char for char, count in char_count.items() if count == max_count]\n",
    "\n",
    "    print(\"Maximum Char occurrence in the string is\", max_char, \" and frequency\", max_count)\n",
    "\n",
    "s = input(\"Enter a string: \")\n",
    "highest_occurrence_char(s)"
   ]
  }
 ],
 "metadata": {
  "kernelspec": {
   "display_name": "Python 3 (ipykernel)",
   "language": "python",
   "name": "python3"
  },
  "language_info": {
   "codemirror_mode": {
    "name": "ipython",
    "version": 3
   },
   "file_extension": ".py",
   "mimetype": "text/x-python",
   "name": "python",
   "nbconvert_exporter": "python",
   "pygments_lexer": "ipython3",
   "version": "3.9.13"
  }
 },
 "nbformat": 4,
 "nbformat_minor": 5
}
