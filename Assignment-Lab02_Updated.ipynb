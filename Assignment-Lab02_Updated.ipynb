{
 "cells": [
  {
   "cell_type": "markdown",
   "id": "77c66a5b-6e0d-458e-914d-88dabe9dc63e",
   "metadata": {},
   "source": [
    "**A1**"
   ]
  },
  {
   "cell_type": "code",
   "execution_count": 1,
   "id": "c22789bc",
   "metadata": {},
   "outputs": [
    {
     "name": "stdout",
     "output_type": "stream",
     "text": [
      "  Customer  Candies (#)  Mangoes (Kg)  Milk Packets (#)  Payment (Rs)\n",
      "0      C_1           20             6                 2           386\n",
      "1      C_2           16             3                 6           289\n",
      "2      C_3           27             6                 2           393\n",
      "3      C_4           19             1                 2           110\n",
      "4      C_5           24             4                 2           280\n",
      "5      C_6           22             1                 5           167\n",
      "6      C_7           15             4                 2           271\n",
      "7      C_8           18             4                 2           274\n",
      "8      C_9           21             1                 4           148\n",
      "9     C_10           16             2                 4           198\n",
      "\n",
      "Shape of Matrix A: (10, 3)\n",
      "Shape of Matrix C: (10, 1)\n",
      "Dimensionality of the vector space: 3\n",
      "Number of vectors in the vector space: 10\n",
      "Rank of Matrix A: 3\n",
      "Cost of each product available for sale:\n",
      " [[ 1.]\n",
      " [55.]\n",
      " [18.]]\n",
      "\n"
     ]
    }
   ],
   "source": [
    "#importing Pandas and Numpy\n",
    "import pandas as pd\n",
    "import numpy as np\n",
    "\n",
    "#Loadindkishor_c excel file and Used 'r' to avoid unicode error\n",
    "file_path = 'Lab Session Data.xlsx'\n",
    "\n",
    "# Read all sheets from the Excel file\n",
    "dataframe = pd.read_excel(file_path, sheet_name=None)\n",
    "\n",
    "dataframe\n",
    "\n",
    "# Extract the Purchase Data dataframe\n",
    "purchases_data = dataframe['Purchase data']\n",
    "\n",
    "# Display the head of the dataframe to understand its structure\n",
    "print(purchases_data.iloc[:, [0, 1, 2, 3, 4]])\n",
    "print()\n",
    "\n",
    "# Segregate the data into matrices A and C\n",
    "# Matrix A will consist of the features (Candies, Mangoes, Milk Packets)\n",
    "# Matrix C will consist of the target variable (Payment)\n",
    "A = purchases_data[['Candies (#)', 'Mangoes (Kg)', 'Milk Packets (#)']].values\n",
    "C = purchases_data[['Payment (Rs)']].values\n",
    "\n",
    "\n",
    "# Check the shapes of A and C\n",
    "shape_of_A = A.shape\n",
    "shape_of_C= C.shape\n",
    "\n",
    "# Print the shapes of A and C\n",
    "print('Shape of Matrix A:', shape_of_A)\n",
    "print('Shape of Matrix C:', shape_of_C)\n",
    "\n",
    "# Calculate the dimensionality of the vector space\n",
    "dimensionality_of_vector = shape_of_A[1]  # Number of columns in A\n",
    "\n",
    "# Calculate the number of vectors in the vector space\n",
    "number_of_vectors = shape_of_A[0]  # Number of rows in A\n",
    "\n",
    "# Calculate the rank of Matrix A\n",
    "rank_of_A = np.linalg.matrix_rank(A)\n",
    "\n",
    "# Calculate the pseudo-inverse of Matrix A\n",
    "pseudo_inverse_of_A = np.linalg.pinv(A)\n",
    "\n",
    "# Calculate the cost of each product available for sale using the pseudo-inverse\n",
    "costs = pseudo_inverse_of_A @ C\n",
    "\n",
    "\n",
    "# Print the outputs\n",
    "print('Dimensionality of the vector space:', dimensionality_of_vector)\n",
    "print('Number of vectors in the vector space:', number_of_vectors)\n",
    "print('Rank of Matrix A:', rank_of_A)\n",
    "print('Cost of each product available for sale:\\n', costs)\n",
    "print()"
   ]
  },
  {
   "cell_type": "markdown",
   "id": "6daaf876-d7cf-4cf2-a28c-a115cf4b5547",
   "metadata": {},
   "source": [
    "**A2**"
   ]
  },
  {
   "cell_type": "code",
   "execution_count": 2,
   "id": "d9f5ba5c",
   "metadata": {},
   "outputs": [
    {
     "name": "stdout",
     "output_type": "stream",
     "text": [
      "The required model vector for predicting the cost of the products is :\n",
      " [[ 1.]\n",
      " [55.]\n",
      " [18.]]\n"
     ]
    }
   ],
   "source": [
    "# Calculate the model vector X for predicting the cost of the products available with the vendor\n",
    "X = pseudo_inverse_of_A @ C\n",
    "\n",
    "# Print the model vector X\n",
    "print('The required model vector for predicting the cost of the products is :\\n', X)"
   ]
  },
  {
   "cell_type": "markdown",
   "id": "a0db41c1-58fb-45bf-b975-79c90ac5cec5",
   "metadata": {},
   "source": [
    "**A3**"
   ]
  },
  {
   "cell_type": "code",
   "execution_count": 3,
   "id": "27feb0b0",
   "metadata": {},
   "outputs": [
    {
     "name": "stdout",
     "output_type": "stream",
     "text": [
      "              precision    recall  f1-score   support\n",
      "\n",
      "        POOR       0.67      1.00      0.80         2\n",
      "        RICH       0.00      0.00      0.00         1\n",
      "\n",
      "    accuracy                           0.67         3\n",
      "   macro avg       0.33      0.50      0.40         3\n",
      "weighted avg       0.44      0.67      0.53         3\n",
      "\n"
     ]
    },
    {
     "name": "stderr",
     "output_type": "stream",
     "text": [
      "/home/jaykishor_c/.local/lib/python3.10/site-packages/sklearn/metrics/_classification.py:1531: UndefinedMetricWarning: Precision is ill-defined and being set to 0.0 in labels with no predicted samples. Use `zero_division` parameter to control this behavior.\n",
      "  _warn_prf(average, modifier, f\"{metric.capitalize()} is\", len(result))\n",
      "/home/jaykishor_c/.local/lib/python3.10/site-packages/sklearn/metrics/_classification.py:1531: UndefinedMetricWarning: Precision is ill-defined and being set to 0.0 in labels with no predicted samples. Use `zero_division` parameter to control this behavior.\n",
      "  _warn_prf(average, modifier, f\"{metric.capitalize()} is\", len(result))\n",
      "/home/jaykishor_c/.local/lib/python3.10/site-packages/sklearn/metrics/_classification.py:1531: UndefinedMetricWarning: Precision is ill-defined and being set to 0.0 in labels with no predicted samples. Use `zero_division` parameter to control this behavior.\n",
      "  _warn_prf(average, modifier, f\"{metric.capitalize()} is\", len(result))\n"
     ]
    }
   ],
   "source": [
    "from sklearn.model_selection import train_test_split\n",
    "from sklearn.linear_model import LogisticRegression\n",
    "from sklearn.metrics import classification_report\n",
    "\n",
    "# Mark customers as RICH or POOR\n",
    "purchases_data['Customer Class'] = np.where(purchases_data['Payment (Rs)'] > 200, 'RICH', 'POOR')\n",
    "\n",
    "# Prepare the data for classification\n",
    "X = purchases_data[['Candies (#)', 'Mangoes (Kg)', 'Milk Packets (#)']].values\n",
    "y = purchases_data['Customer Class'].values\n",
    "\n",
    "# Split the data into training and test sets\n",
    "X_train, X_test, y_train, y_test = train_test_split(X, y, test_size=0.3, random_state=42)\n",
    "\n",
    "# Initialize and train the classifier model\n",
    "classifier = LogisticRegression()\n",
    "classifier.fit(X_train, y_train)\n",
    "\n",
    "# Predict the class for the test set\n",
    "y_pred = classifier.predict(X_test)\n",
    "\n",
    "# Print the classification report\n",
    "print(classification_report(y_test, y_pred))"
   ]
  },
  {
   "cell_type": "markdown",
   "id": "392cdede-1430-4862-9b0d-cde3b698a476",
   "metadata": {},
   "source": [
    "**A4**"
   ]
  },
  {
   "cell_type": "code",
   "execution_count": 4,
   "id": "5a29d37c-b678-432d-a6e8-3f4f1191381f",
   "metadata": {},
   "outputs": [
    {
     "data": {
      "text/html": [
       "<div>\n",
       "<style scoped>\n",
       "    .dataframe tbody tr th:only-of-type {\n",
       "        vertical-align: middle;\n",
       "    }\n",
       "\n",
       "    .dataframe tbody tr th {\n",
       "        vertical-align: top;\n",
       "    }\n",
       "\n",
       "    .dataframe thead th {\n",
       "        text-align: right;\n",
       "    }\n",
       "</style>\n",
       "<table border=\"1\" class=\"dataframe\">\n",
       "  <thead>\n",
       "    <tr style=\"text-align: right;\">\n",
       "      <th></th>\n",
       "      <th>Date</th>\n",
       "      <th>Month</th>\n",
       "      <th>Day</th>\n",
       "      <th>Price</th>\n",
       "      <th>Open</th>\n",
       "      <th>High</th>\n",
       "      <th>Low</th>\n",
       "      <th>Volume</th>\n",
       "      <th>Chg%</th>\n",
       "    </tr>\n",
       "  </thead>\n",
       "  <tbody>\n",
       "    <tr>\n",
       "      <th>0</th>\n",
       "      <td>Jun 29, 2021</td>\n",
       "      <td>Jun</td>\n",
       "      <td>Tue</td>\n",
       "      <td>2081.85</td>\n",
       "      <td>2092.00</td>\n",
       "      <td>2126.90</td>\n",
       "      <td>2065.05</td>\n",
       "      <td>1.67M</td>\n",
       "      <td>0.0020</td>\n",
       "    </tr>\n",
       "    <tr>\n",
       "      <th>1</th>\n",
       "      <td>Jun 28, 2021</td>\n",
       "      <td>Jun</td>\n",
       "      <td>Mon</td>\n",
       "      <td>2077.75</td>\n",
       "      <td>2084.00</td>\n",
       "      <td>2112.45</td>\n",
       "      <td>2068.40</td>\n",
       "      <td>707.73K</td>\n",
       "      <td>0.0043</td>\n",
       "    </tr>\n",
       "    <tr>\n",
       "      <th>2</th>\n",
       "      <td>Jun 25, 2021</td>\n",
       "      <td>Jun</td>\n",
       "      <td>Fri</td>\n",
       "      <td>2068.85</td>\n",
       "      <td>2084.35</td>\n",
       "      <td>2088.50</td>\n",
       "      <td>2053.10</td>\n",
       "      <td>475.82K</td>\n",
       "      <td>-0.0020</td>\n",
       "    </tr>\n",
       "    <tr>\n",
       "      <th>3</th>\n",
       "      <td>Jun 24, 2021</td>\n",
       "      <td>Jun</td>\n",
       "      <td>Thu</td>\n",
       "      <td>2072.95</td>\n",
       "      <td>2098.00</td>\n",
       "      <td>2098.00</td>\n",
       "      <td>2066.00</td>\n",
       "      <td>541.51K</td>\n",
       "      <td>-0.0026</td>\n",
       "    </tr>\n",
       "    <tr>\n",
       "      <th>4</th>\n",
       "      <td>Jun 23, 2021</td>\n",
       "      <td>Jun</td>\n",
       "      <td>Wed</td>\n",
       "      <td>2078.25</td>\n",
       "      <td>2102.00</td>\n",
       "      <td>2111.40</td>\n",
       "      <td>2072.00</td>\n",
       "      <td>809.62K</td>\n",
       "      <td>-0.0023</td>\n",
       "    </tr>\n",
       "    <tr>\n",
       "      <th>5</th>\n",
       "      <td>Jun 22, 2021</td>\n",
       "      <td>Jun</td>\n",
       "      <td>Tue</td>\n",
       "      <td>2083.00</td>\n",
       "      <td>2100.00</td>\n",
       "      <td>2128.35</td>\n",
       "      <td>2075.00</td>\n",
       "      <td>1.29M</td>\n",
       "      <td>0.0030</td>\n",
       "    </tr>\n",
       "    <tr>\n",
       "      <th>6</th>\n",
       "      <td>Jun 21, 2021</td>\n",
       "      <td>Jun</td>\n",
       "      <td>Mon</td>\n",
       "      <td>2076.85</td>\n",
       "      <td>2000.00</td>\n",
       "      <td>2093.75</td>\n",
       "      <td>1981.15</td>\n",
       "      <td>1.69M</td>\n",
       "      <td>0.0324</td>\n",
       "    </tr>\n",
       "    <tr>\n",
       "      <th>7</th>\n",
       "      <td>Jun 18, 2021</td>\n",
       "      <td>Jun</td>\n",
       "      <td>Fri</td>\n",
       "      <td>2011.70</td>\n",
       "      <td>2070.25</td>\n",
       "      <td>2070.25</td>\n",
       "      <td>1978.65</td>\n",
       "      <td>1.30M</td>\n",
       "      <td>-0.0189</td>\n",
       "    </tr>\n",
       "    <tr>\n",
       "      <th>8</th>\n",
       "      <td>Jun 17, 2021</td>\n",
       "      <td>Jun</td>\n",
       "      <td>Thu</td>\n",
       "      <td>2050.40</td>\n",
       "      <td>2070.00</td>\n",
       "      <td>2088.95</td>\n",
       "      <td>2036.40</td>\n",
       "      <td>754.28K</td>\n",
       "      <td>-0.0189</td>\n",
       "    </tr>\n",
       "    <tr>\n",
       "      <th>9</th>\n",
       "      <td>Jun 16, 2021</td>\n",
       "      <td>Jun</td>\n",
       "      <td>Wed</td>\n",
       "      <td>2089.95</td>\n",
       "      <td>2109.45</td>\n",
       "      <td>2121.95</td>\n",
       "      <td>2075.30</td>\n",
       "      <td>856.94K</td>\n",
       "      <td>-0.0038</td>\n",
       "    </tr>\n",
       "  </tbody>\n",
       "</table>\n",
       "</div>"
      ],
      "text/plain": [
       "           Date Month  Day    Price     Open     High      Low   Volume  \\\n",
       "0  Jun 29, 2021   Jun  Tue  2081.85  2092.00  2126.90  2065.05    1.67M   \n",
       "1  Jun 28, 2021   Jun  Mon  2077.75  2084.00  2112.45  2068.40  707.73K   \n",
       "2  Jun 25, 2021   Jun  Fri  2068.85  2084.35  2088.50  2053.10  475.82K   \n",
       "3  Jun 24, 2021   Jun  Thu  2072.95  2098.00  2098.00  2066.00  541.51K   \n",
       "4  Jun 23, 2021   Jun  Wed  2078.25  2102.00  2111.40  2072.00  809.62K   \n",
       "5  Jun 22, 2021   Jun  Tue  2083.00  2100.00  2128.35  2075.00    1.29M   \n",
       "6  Jun 21, 2021   Jun  Mon  2076.85  2000.00  2093.75  1981.15    1.69M   \n",
       "7  Jun 18, 2021   Jun  Fri  2011.70  2070.25  2070.25  1978.65    1.30M   \n",
       "8  Jun 17, 2021   Jun  Thu  2050.40  2070.00  2088.95  2036.40  754.28K   \n",
       "9  Jun 16, 2021   Jun  Wed  2089.95  2109.45  2121.95  2075.30  856.94K   \n",
       "\n",
       "     Chg%  \n",
       "0  0.0020  \n",
       "1  0.0043  \n",
       "2 -0.0020  \n",
       "3 -0.0026  \n",
       "4 -0.0023  \n",
       "5  0.0030  \n",
       "6  0.0324  \n",
       "7 -0.0189  \n",
       "8 -0.0189  \n",
       "9 -0.0038  "
      ]
     },
     "execution_count": 4,
     "metadata": {},
     "output_type": "execute_result"
    }
   ],
   "source": [
    "#from original dataframne taking the IRCTC Stock Price table\n",
    "IRCTC_Stock_Price = dataframe['IRCTC Stock Price']\n",
    "#displaying the first 10 data from IRCTC Stock Price tables\n",
    "IRCTC_Stock_Price.head(10)"
   ]
  },
  {
   "cell_type": "markdown",
   "id": "06d1aaa0-4048-4bcd-afc7-c04f8aa17f18",
   "metadata": {},
   "source": [
    "**Calculate the mean and variance of the Price data present in column D.\n",
    "(Suggestion: if you use Python, you may use statistics.mean() &\n",
    "statistics.variance() methods).**"
   ]
  },
  {
   "cell_type": "code",
   "execution_count": 5,
   "id": "543cbcce-a75a-4323-85aa-ec69bcad1f38",
   "metadata": {},
   "outputs": [
    {
     "name": "stdout",
     "output_type": "stream",
     "text": [
      "The mean and variance of prices present in IRCTC Stock Price are 1560.663453815261 and 58732.365352539186 respectively.\n",
      "\n"
     ]
    }
   ],
   "source": [
    "import statistics\n",
    "price = IRCTC_Stock_Price['Price']\n",
    "mean_price = statistics.mean(price)\n",
    "variance_price = statistics.variance(price)\n",
    "print(f'The mean and variance of prices present in IRCTC Stock Price are {mean_price} and {variance_price} respectively.')\n",
    "print()"
   ]
  },
  {
   "cell_type": "markdown",
   "id": "85bd74e1-5e69-4e08-88e9-95705e62b0cd",
   "metadata": {},
   "source": [
    "**Select the price data for all Wednesdays and calculate the sample mean. Compare the mean\n",
    "with the population mean and note your observations.**"
   ]
  },
  {
   "cell_type": "code",
   "execution_count": 6,
   "id": "e151103d-4439-4c57-a87b-020c2013b29a",
   "metadata": {},
   "outputs": [
    {
     "name": "stdout",
     "output_type": "stream",
     "text": [
      "Sample mean of Wednesday prices: 1550.706\n",
      "Population mean of all prices: 1560.663453815261\n",
      "So, The sample mean of Wednesday prices is lower than the population mean.\n",
      "\n"
     ]
    }
   ],
   "source": [
    "# Filter for Wednesdays\n",
    "wed_data = IRCTC_Stock_Price[IRCTC_Stock_Price['Day'] == 'Wed']\n",
    "wed_price = wed_data['Price']\n",
    "sample_mean = statistics.mean(wed_price) # sample mean is mean of wed. price of dataset\n",
    "\n",
    "population_mean = mean_price # mean_price is the total mean of the price of data set\n",
    "\n",
    "# Display the results\n",
    "print(f\"Sample mean of Wednesday prices: {sample_mean}\")\n",
    "print(f\"Population mean of all prices: {population_mean}\")\n",
    "\n",
    "# Note observations\n",
    "if sample_mean > population_mean:\n",
    "    observation = \"The sample mean of Wednesday prices is higher than the population mean.\"\n",
    "elif sample_mean < population_mean:\n",
    "    observation = \"The sample mean of Wednesday prices is lower than the population mean.\"\n",
    "else:\n",
    "    observation = \"The sample mean of Wednesday prices is equal to the population mean.\"\n",
    "\n",
    "print(f'So, {observation}')\n",
    "print()"
   ]
  },
  {
   "cell_type": "markdown",
   "id": "e56b91f2-d6a1-4d4a-bf2f-faa79b9c7640",
   "metadata": {},
   "source": [
    "**Select the price data for the month of Apr and calculate the sample mean. Compare the\n",
    "mean with the population mean and note your observations.**"
   ]
  },
  {
   "cell_type": "code",
   "execution_count": 7,
   "id": "782be08e-1e50-498f-9739-4a265e26bccf",
   "metadata": {},
   "outputs": [
    {
     "name": "stdout",
     "output_type": "stream",
     "text": [
      "Sample mean of April prices: 1698.9526315789474\n",
      "Population mean of all prices: 1560.663453815261\n",
      "So, The sample mean of April prices is higher than the population mean.\n",
      "\n"
     ]
    }
   ],
   "source": [
    "April_data = IRCTC_Stock_Price[IRCTC_Stock_Price['Month'] == 'Apr']\n",
    "April_data_price = April_data['Price']\n",
    "sample_mean = statistics.mean(April_data_price) # April_maen is simple_mean of the dataset\n",
    "\n",
    "# Display the results\n",
    "print(f\"Sample mean of April prices: {sample_mean}\")\n",
    "print(f\"Population mean of all prices: {population_mean}\")\n",
    "\n",
    "# Note observations\n",
    "if sample_mean > population_mean:\n",
    "    observation = \"The sample mean of April prices is higher than the population mean.\"\n",
    "elif sample_mean < population_mean:\n",
    "    observation = \"The sample mean of April prices is lower than the population mean.\"\n",
    "else:\n",
    "    observation = \"The sample mean of April prices is equal to the population mean.\"\n",
    "\n",
    "print(f'So, {observation}')\n",
    "print()"
   ]
  },
  {
   "cell_type": "markdown",
   "id": "b4a0c5e6-2bf7-473d-adf6-a156b2243a0d",
   "metadata": {},
   "source": [
    "**From the Chg% (available in column I) find the probability of making a loss over the stock.\n",
    "(Suggestion: use lambda function to find negative values)**"
   ]
  },
  {
   "cell_type": "code",
   "execution_count": 8,
   "id": "a43b76d9-9e27-4d03-a6e1-63123997b04f",
   "metadata": {},
   "outputs": [
    {
     "name": "stdout",
     "output_type": "stream",
     "text": [
      "Probability of making a loss: 0.50\n",
      "\n"
     ]
    }
   ],
   "source": [
    "#Use a lambda function to filter negative values\n",
    "negative_change = IRCTC_Stock_Price['Chg%'].apply(lambda x: x < 0)\n",
    "\n",
    "#Calculate the probability of making a loss\n",
    "probability_of_loss = negative_change.mean()\n",
    "\n",
    "print(f\"Probability of making a loss: {probability_of_loss:.2f}\")\n",
    "print()\n",
    "\n"
   ]
  },
  {
   "cell_type": "markdown",
   "id": "ed03948e-5d23-4ca4-858b-4ef3e82a63aa",
   "metadata": {},
   "source": [
    "**Calculate the probability of making a profit on Wednesday.**"
   ]
  },
  {
   "cell_type": "code",
   "execution_count": 9,
   "id": "d843740a-e065-4983-af77-138365d0a3aa",
   "metadata": {},
   "outputs": [
    {
     "name": "stdout",
     "output_type": "stream",
     "text": [
      "Probability of making a profit on Wed. : 0.42 \n",
      "\n"
     ]
    }
   ],
   "source": [
    "#Use a lambda function to filter negative values\n",
    "positive_change = wed_data['Chg%'].apply(lambda x:x>0)\n",
    "probability_of_profit = statistics.mean(positive_change)\n",
    "print(f'Probability of making a profit on Wed. : {probability_of_profit:.2f} ')\n",
    "print()"
   ]
  },
  {
   "cell_type": "markdown",
   "id": "d15b87b3-c71b-4b20-9b53-c2e3a7f93e84",
   "metadata": {},
   "source": [
    "**Calculate the conditional probability of making profit, given that today is Wednesday.**"
   ]
  },
  {
   "cell_type": "code",
   "execution_count": 10,
   "id": "3cdcd83c-f0f6-48a9-b978-8b9f5d5d3c31",
   "metadata": {},
   "outputs": [
    {
     "name": "stdout",
     "output_type": "stream",
     "text": [
      "Conditional probability of making a profit given that today is Wednesday: 0.42\n"
     ]
    }
   ],
   "source": [
    "#Taking wed. data from the table of dataset\n",
    "wed_data = IRCTC_Stock_Price[IRCTC_Stock_Price['Day'] == 'Wed']\n",
    "#Assigning the positive changes to profit_on_wed\n",
    "profit_on_wed = wed_data['Chg%'].apply(lambda x:x>0)\n",
    "#Calculate the probability of making a profit on Wednesdays\n",
    "probability_of_profit_given_wednesday = statistics.mean(profit_on_wed)\n",
    "print(f\"Conditional probability of making a profit given that today is Wednesday: {probability_of_profit_given_wednesday:.2f}\")\n",
    "\n"
   ]
  },
  {
   "cell_type": "markdown",
   "id": "3aa018ae-4398-48d8-b97b-ebf6c91b453a",
   "metadata": {},
   "source": [
    "**Make a scatter plot of Chg% data against the day of the week**"
   ]
  },
  {
   "cell_type": "code",
   "execution_count": 11,
   "id": "d5c786ee-1e59-436a-af93-1b276fe7e12e",
   "metadata": {},
   "outputs": [
    {
     "data": {
      "image/png": "[encoded data removed]",
      "text/plain": [
       "<Figure size 640x480 with 1 Axes>"
      ]
     },
     "metadata": {},
     "output_type": "display_data"
    }
   ],
   "source": [
    "# importing matplotlib.pyplot for making the graphs like bar-graph, etc.\n",
    "import matplotlib.pyplot as plt\n",
    "\n",
    "#ploting scatter plot using data chg% and Day\n",
    "plt.scatter(x = 'Day', y = 'Chg%', data = IRCTC_Stock_Price)\n",
    "\n",
    "# Add labels and title\n",
    "plt.xlabel('Day of the week')\n",
    "plt.ylabel('Chg%')\n",
    "plt.title('Scatter Plot of Chg% Against Day of the Week')\n",
    "plt.show()\n"
   ]
  },
  {
   "cell_type": "markdown",
   "id": "b757c774-e099-4a9c-9844-f8f440608975",
   "metadata": {},
   "source": [
    "**A5**"
   ]
  },
  {
   "cell_type": "code",
   "execution_count": 12,
   "id": "b48f4441-8727-43f4-b511-c8517fd8dcf2",
   "metadata": {},
   "outputs": [
    {
     "name": "stdout",
     "output_type": "stream",
     "text": [
      "Data-set before nan.\n",
      "   Record ID  age sex on thyroxine query on thyroxine  \\\n",
      "0  840801013   29   F            f                  f   \n",
      "1  840801014   29   F            f                  f   \n",
      "2  840801042   41   F            f                  f   \n",
      "3  840803046   36   F            f                  f   \n",
      "4  840803047   32   F            f                  f   \n",
      "5  840803048   60   F            f                  f   \n",
      "6  840803068   77   F            f                  f   \n",
      "7  840807019   28   F            f                  f   \n",
      "8  840808060   28   F            f                  f   \n",
      "9  840808073   28   F            f                  f   \n",
      "\n",
      "  on antithyroid medication sick pregnant thyroid surgery I131 treatment  ...  \\\n",
      "0                         f    f        f               f              f  ...   \n",
      "1                         f    f        f               f              f  ...   \n",
      "2                         f    f        f               f              f  ...   \n",
      "3                         f    f        f               f              f  ...   \n",
      "4                         f    f        f               f              f  ...   \n",
      "5                         f    f        f               f              f  ...   \n",
      "6                         f    f        f               f              f  ...   \n",
      "7                         f    f        f               f              f  ...   \n",
      "8                         f    f        f               f              f  ...   \n",
      "9                         f    f        f               f              f  ...   \n",
      "\n",
      "  TT4 measured  TT4 T4U measured T4U FTI measured FTI TBG measured TBG  \\\n",
      "0            f    ?            f   ?            f   ?            f   ?   \n",
      "1            t  128            f   ?            f   ?            f   ?   \n",
      "2            f    ?            f   ?            f   ?            t  11   \n",
      "3            f    ?            f   ?            f   ?            t  26   \n",
      "4            f    ?            f   ?            f   ?            t  36   \n",
      "5            f    ?            f   ?            f   ?            t  26   \n",
      "6            f    ?            f   ?            f   ?            t  21   \n",
      "7            t  116            f   ?            f   ?            f   ?   \n",
      "8            t   76            f   ?            f   ?            f   ?   \n",
      "9            t   83            f   ?            f   ?            f   ?   \n",
      "\n",
      "  referral source     Condition  \n",
      "0           other  NO CONDITION  \n",
      "1           other  NO CONDITION  \n",
      "2           other  NO CONDITION  \n",
      "3           other  NO CONDITION  \n",
      "4           other             S  \n",
      "5           other  NO CONDITION  \n",
      "6           other  NO CONDITION  \n",
      "7             SVI  NO CONDITION  \n",
      "8           other  NO CONDITION  \n",
      "9           other  NO CONDITION  \n",
      "\n",
      "[10 rows x 31 columns]\n",
      "Data set after nan\n",
      "   Record ID  age sex on thyroxine query on thyroxine  \\\n",
      "0  840801013   29   F            f                  f   \n",
      "1  840801014   29   F            f                  f   \n",
      "2  840801042   41   F            f                  f   \n",
      "3  840803046   36   F            f                  f   \n",
      "4  840803047   32   F            f                  f   \n",
      "5  840803048   60   F            f                  f   \n",
      "6  840803068   77   F            f                  f   \n",
      "7  840807019   28   F            f                  f   \n",
      "8  840808060   28   F            f                  f   \n",
      "9  840808073   28   F            f                  f   \n",
      "\n",
      "  on antithyroid medication sick pregnant thyroid surgery I131 treatment  ...  \\\n",
      "0                         f    f        f               f              f  ...   \n",
      "1                         f    f        f               f              f  ...   \n",
      "2                         f    f        f               f              f  ...   \n",
      "3                         f    f        f               f              f  ...   \n",
      "4                         f    f        f               f              f  ...   \n",
      "5                         f    f        f               f              f  ...   \n",
      "6                         f    f        f               f              f  ...   \n",
      "7                         f    f        f               f              f  ...   \n",
      "8                         f    f        f               f              f  ...   \n",
      "9                         f    f        f               f              f  ...   \n",
      "\n",
      "  TT4 measured    TT4 T4U measured T4U FTI measured FTI TBG measured   TBG  \\\n",
      "0            f    NaN            f NaN            f NaN            f   NaN   \n",
      "1            t  128.0            f NaN            f NaN            f   NaN   \n",
      "2            f    NaN            f NaN            f NaN            t  11.0   \n",
      "3            f    NaN            f NaN            f NaN            t  26.0   \n",
      "4            f    NaN            f NaN            f NaN            t  36.0   \n",
      "5            f    NaN            f NaN            f NaN            t  26.0   \n",
      "6            f    NaN            f NaN            f NaN            t  21.0   \n",
      "7            t  116.0            f NaN            f NaN            f   NaN   \n",
      "8            t   76.0            f NaN            f NaN            f   NaN   \n",
      "9            t   83.0            f NaN            f NaN            f   NaN   \n",
      "\n",
      "   referral source     Condition  \n",
      "0            other  NO CONDITION  \n",
      "1            other  NO CONDITION  \n",
      "2            other  NO CONDITION  \n",
      "3            other  NO CONDITION  \n",
      "4            other             S  \n",
      "5            other  NO CONDITION  \n",
      "6            other  NO CONDITION  \n",
      "7              SVI  NO CONDITION  \n",
      "8            other  NO CONDITION  \n",
      "9            other  NO CONDITION  \n",
      "\n",
      "[10 rows x 31 columns]\n"
     ]
    },
    {
     "name": "stderr",
     "output_type": "stream",
     "text": [
      "/tmp/ipykernel_25187/3539252157.py:7: FutureWarning: Downcasting behavior in `replace` is deprecated and will be removed in a future version. To retain the old behavior, explicitly call `result.infer_objects(copy=False)`. To opt-in to the future behavior, set `pd.set_option('future.no_silent_downcasting', True)`\n",
      "  thyroid0387_UCI_data.replace('?', np.nan, inplace=True)\n"
     ]
    }
   ],
   "source": [
    "#Taking the data-set from thyroid0387_UCI  \n",
    "thyroid0387_UCI_data =  dataframe['thyroid0387_UCI']\n",
    "print('Data-set before nan.')\n",
    "print(thyroid0387_UCI_data.head(10))\n",
    "\n",
    "#filling nan inplace of '?'\n",
    "thyroid0387_UCI_data.replace('?', np.nan, inplace=True)\n",
    "\n",
    "print('Data set after nan')\n",
    "print(thyroid0387_UCI_data.head(10))"
   ]
  },
  {
   "cell_type": "markdown",
   "id": "d151f168-b24f-4d3e-b054-1de687ee99a9",
   "metadata": {},
   "source": [
    "**Study each attribute and associated values present. Identify the datatype (nominal etc.)\n",
    "for the attribute.**"
   ]
  },
  {
   "cell_type": "code",
   "execution_count": 13,
   "id": "972b60cc-2251-4784-a0dd-edc6fd5aa017",
   "metadata": {},
   "outputs": [
    {
     "name": "stdout",
     "output_type": "stream",
     "text": [
      "Record ID                      int64\n",
      "age                            int64\n",
      "sex                           object\n",
      "on thyroxine                  object\n",
      "query on thyroxine            object\n",
      "on antithyroid medication     object\n",
      "sick                          object\n",
      "pregnant                      object\n",
      "thyroid surgery               object\n",
      "I131 treatment                object\n",
      "query hypothyroid             object\n",
      "query hyperthyroid            object\n",
      "lithium                       object\n",
      "goitre                        object\n",
      "tumor                         object\n",
      "hypopituitary                 object\n",
      "psych                         object\n",
      "TSH measured                  object\n",
      "TSH                          float64\n",
      "T3 measured                   object\n",
      "T3                           float64\n",
      "TT4 measured                  object\n",
      "TT4                          float64\n",
      "T4U measured                  object\n",
      "T4U                          float64\n",
      "FTI measured                  object\n",
      "FTI                          float64\n",
      "TBG measured                  object\n",
      "TBG                          float64\n",
      "referral source               object\n",
      "Condition                     object\n",
      "dtype: object\n"
     ]
    }
   ],
   "source": [
    "# Display the data types of each column\n",
    "print(thyroid0387_UCI_data.dtypes)\n"
   ]
  },
  {
   "cell_type": "markdown",
   "id": "e044cf66-4b18-4318-92b8-9e7f0afa3500",
   "metadata": {},
   "source": [
    "**For categorical attributes, identify the encoding scheme to be employed. (Guidance:\n",
    "employ label encoding for ordinal variables while One-Hot encoding may be employed\n",
    "for nominal variables).**"
   ]
  },
  {
   "cell_type": "code",
   "execution_count": null,
   "id": "084f1f7e-5a45-41aa-b9d1-27aaaa791188",
   "metadata": {},
   "outputs": [],
   "source": [
    "\n",
    "\n"
   ]
  },
  {
   "cell_type": "markdown",
   "id": "79f34c4d-1449-45b2-89ec-75999a9235aa",
   "metadata": {},
   "source": [
    "**Study the data range for numeric variables.**"
   ]
  },
  {
   "cell_type": "code",
   "execution_count": 14,
   "id": "9e1fe7fd-5b1f-4a4a-8ba4-3bfdffa3ae39",
   "metadata": {},
   "outputs": [
    {
     "name": "stdout",
     "output_type": "stream",
     "text": [
      "Index(['Record ID', 'age', 'TSH', 'T3', 'TT4', 'T4U', 'FTI', 'TBG'], dtype='object')\n",
      "\n",
      "       Record ID      age      TSH     T3    TT4   T4U    FTI    TBG\n",
      "min  840801013.0      1.0    0.005   0.05    2.0  0.17    1.4    0.1\n",
      "max  870119035.0  65526.0  530.000  18.00  600.0  2.33  881.0  200.0\n"
     ]
    }
   ],
   "source": [
    "# Display range (min, max) for numeric variables\n",
    "numeric_data_column =  thyroid0387_UCI_data.select_dtypes(include = ['float64', 'int64']).columns\n",
    "\n",
    "#Displaying the numeric column\n",
    "print(numeric_data_column)\n",
    "print()\n",
    "\n",
    "#displaying the range of numberic variable i.e min & max\n",
    "print(thyroid0387_UCI_data[numeric_data_column].describe().loc[['min', 'max']])"
   ]
  },
  {
   "cell_type": "markdown",
   "id": "d9ed1093-28ba-4b98-84b9-4bb6df697218",
   "metadata": {},
   "source": [
    "**Study the presence of missing values in each attribute.**"
   ]
  },
  {
   "cell_type": "code",
   "execution_count": 15,
   "id": "887a4427-a8af-4bc6-a6d2-83fa6fd985bd",
   "metadata": {},
   "outputs": [
    {
     "name": "stdout",
     "output_type": "stream",
     "text": [
      "Record ID                       0\n",
      "age                             0\n",
      "sex                           307\n",
      "on thyroxine                    0\n",
      "query on thyroxine              0\n",
      "on antithyroid medication       0\n",
      "sick                            0\n",
      "pregnant                        0\n",
      "thyroid surgery                 0\n",
      "I131 treatment                  0\n",
      "query hypothyroid               0\n",
      "query hyperthyroid              0\n",
      "lithium                         0\n",
      "goitre                          0\n",
      "tumor                           0\n",
      "hypopituitary                   0\n",
      "psych                           0\n",
      "TSH measured                    0\n",
      "TSH                           842\n",
      "T3 measured                     0\n",
      "T3                           2604\n",
      "TT4 measured                    0\n",
      "TT4                           442\n",
      "T4U measured                    0\n",
      "T4U                           809\n",
      "FTI measured                    0\n",
      "FTI                           802\n",
      "TBG measured                    0\n",
      "TBG                          8823\n",
      "referral source                 0\n",
      "Condition                       0\n",
      "dtype: int64\n"
     ]
    }
   ],
   "source": [
    "# Check for missing values in each column\n",
    "missing_val = thyroid0387_UCI_data.isnull().sum()\n",
    "print(missing_val)\n"
   ]
  },
  {
   "cell_type": "markdown",
   "id": "27080088-3beb-474b-becc-01476c78e604",
   "metadata": {},
   "source": [
    "**Study presence of outliers in data.**"
   ]
  },
  {
   "cell_type": "code",
   "execution_count": 16,
   "id": "b09065a1-5c44-4b29-bb82-eb2fff3bf68b",
   "metadata": {},
   "outputs": [
    {
     "data": {
      "image/png": "[encoded data removed]",
      "text/plain": [
       "<Figure size 640x480 with 1 Axes>"
      ]
     },
     "metadata": {},
     "output_type": "display_data"
    }
   ],
   "source": [
    "import matplotlib.pyplot as plt\n",
    "\n",
    "# Plot box plot for each numeric column to check for outliers\n",
    "thyroid0387_UCI_data[numeric_data_column].boxplot()\n",
    "plt.xlabel('Numeric Attributes')\n",
    "plt.title(\"Boxplot for Numeric Attributes\")\n",
    "plt.show()"
   ]
  },
  {
   "cell_type": "markdown",
   "id": "b0133cf8-4a06-49b1-b375-c02e01a9ede9",
   "metadata": {},
   "source": [
    "\n"
   ]
  },
  {
   "cell_type": "markdown",
   "id": "5eaf7ff0-e66f-4672-ae49-3afc323610c9",
   "metadata": {},
   "source": [
    "**For numeric variables, calculate the mean and variance (or standard deviation).**"
   ]
  },
  {
   "cell_type": "code",
   "execution_count": 17,
   "id": "45b42e0a-8f67-4a6b-8c34-3f80b5f61664",
   "metadata": {},
   "outputs": [
    {
     "name": "stdout",
     "output_type": "stream",
     "text": [
      "Mean values : \n",
      "Record ID    8.529473e+08\n",
      "age          7.355582e+01\n",
      "TSH          5.218403e+00\n",
      "T3           1.970629e+00\n",
      "TT4          1.087003e+02\n",
      "T4U          9.760557e-01\n",
      "FTI          1.136407e+02\n",
      "TBG          2.987006e+01\n",
      "dtype: float64\n",
      "\n",
      "Standard deviation values : \n",
      " Record ID    7.581969e+06\n",
      "age          1.183977e+03\n",
      "TSH          2.418401e+01\n",
      "T3           8.875788e-01\n",
      "TT4          3.752267e+01\n",
      "T4U          2.003604e-01\n",
      "FTI          4.155165e+01\n",
      "TBG          2.108050e+01\n",
      "dtype: float64\n",
      "\n"
     ]
    }
   ],
   "source": [
    "# Calculate the mean and standard deviation for numeric variables\n",
    "\n",
    "#Calculate the mean \n",
    "mean_value = thyroid0387_UCI_data[numeric_data_column].mean()\n",
    "\n",
    "#Calculate the variance \n",
    "variance_value = thyroid0387_UCI_data[numeric_data_column].std()\n",
    "\n",
    "print(f\"Mean values : \\n{mean_value}\")\n",
    "print()\n",
    "print(f\"Standard deviation values : \\n {variance_value}\")\n",
    "print()"
   ]
  },
  {
   "cell_type": "markdown",
   "id": "14913f46-8fef-4d3c-855a-361024dd8528",
   "metadata": {},
   "source": [
    "**A6**"
   ]
  },
  {
   "cell_type": "code",
   "execution_count": 18,
   "id": "f07ced00-434f-459f-b75b-b4480b6d7637",
   "metadata": {},
   "outputs": [
    {
     "name": "stdout",
     "output_type": "stream",
     "text": [
      "Column: TSH, Imputation Method: Median\n",
      "Column: T3, Imputation Method: Median\n",
      "Column: TT4, Imputation Method: Median\n",
      "Column: T4U, Imputation Method: Median\n",
      "Column: FTI, Imputation Method: Median\n",
      "Column: TBG, Imputation Method: Median\n",
      "Column: sex, Imputation Method: Mode\n",
      "Missing values after imputation:\n",
      " Record ID                    0\n",
      "age                          0\n",
      "sex                          0\n",
      "on thyroxine                 0\n",
      "query on thyroxine           0\n",
      "on antithyroid medication    0\n",
      "sick                         0\n",
      "pregnant                     0\n",
      "thyroid surgery              0\n",
      "I131 treatment               0\n",
      "query hypothyroid            0\n",
      "query hyperthyroid           0\n",
      "lithium                      0\n",
      "goitre                       0\n",
      "tumor                        0\n",
      "hypopituitary                0\n",
      "psych                        0\n",
      "TSH measured                 0\n",
      "TSH                          0\n",
      "T3 measured                  0\n",
      "T3                           0\n",
      "TT4 measured                 0\n",
      "TT4                          0\n",
      "T4U measured                 0\n",
      "T4U                          0\n",
      "FTI measured                 0\n",
      "FTI                          0\n",
      "TBG measured                 0\n",
      "TBG                          0\n",
      "referral source              0\n",
      "Condition                    0\n",
      "dtype: int64\n"
     ]
    },
    {
     "name": "stderr",
     "output_type": "stream",
     "text": [
      "/tmp/ipykernel_25187/2848495166.py:20: FutureWarning: A value is trying to be set on a copy of a DataFrame or Series through chained assignment using an inplace method.\n",
      "The behavior will change in pandas 3.0. This inplace method will never work because the intermediate object on which we are setting values always behaves as a copy.\n",
      "\n",
      "For example, when doing 'df[col].method(value, inplace=True)', try using 'df.method({col: value}, inplace=True)' or df[col] = df[col].method(value) instead, to perform the operation inplace on the original object.\n",
      "\n",
      "\n",
      "  thyroid0387_UCI_data[col].fillna(thyroid0387_UCI_data[col].median(), inplace=True)\n",
      "/tmp/ipykernel_25187/2848495166.py:20: FutureWarning: A value is trying to be set on a copy of a DataFrame or Series through chained assignment using an inplace method.\n",
      "The behavior will change in pandas 3.0. This inplace method will never work because the intermediate object on which we are setting values always behaves as a copy.\n",
      "\n",
      "For example, when doing 'df[col].method(value, inplace=True)', try using 'df.method({col: value}, inplace=True)' or df[col] = df[col].method(value) instead, to perform the operation inplace on the original object.\n",
      "\n",
      "\n",
      "  thyroid0387_UCI_data[col].fillna(thyroid0387_UCI_data[col].median(), inplace=True)\n",
      "/tmp/ipykernel_25187/2848495166.py:20: FutureWarning: A value is trying to be set on a copy of a DataFrame or Series through chained assignment using an inplace method.\n",
      "The behavior will change in pandas 3.0. This inplace method will never work because the intermediate object on which we are setting values always behaves as a copy.\n",
      "\n",
      "For example, when doing 'df[col].method(value, inplace=True)', try using 'df.method({col: value}, inplace=True)' or df[col] = df[col].method(value) instead, to perform the operation inplace on the original object.\n",
      "\n",
      "\n",
      "  thyroid0387_UCI_data[col].fillna(thyroid0387_UCI_data[col].median(), inplace=True)\n",
      "/tmp/ipykernel_25187/2848495166.py:20: FutureWarning: A value is trying to be set on a copy of a DataFrame or Series through chained assignment using an inplace method.\n",
      "The behavior will change in pandas 3.0. This inplace method will never work because the intermediate object on which we are setting values always behaves as a copy.\n",
      "\n",
      "For example, when doing 'df[col].method(value, inplace=True)', try using 'df.method({col: value}, inplace=True)' or df[col] = df[col].method(value) instead, to perform the operation inplace on the original object.\n",
      "\n",
      "\n",
      "  thyroid0387_UCI_data[col].fillna(thyroid0387_UCI_data[col].median(), inplace=True)\n",
      "/tmp/ipykernel_25187/2848495166.py:20: FutureWarning: A value is trying to be set on a copy of a DataFrame or Series through chained assignment using an inplace method.\n",
      "The behavior will change in pandas 3.0. This inplace method will never work because the intermediate object on which we are setting values always behaves as a copy.\n",
      "\n",
      "For example, when doing 'df[col].method(value, inplace=True)', try using 'df.method({col: value}, inplace=True)' or df[col] = df[col].method(value) instead, to perform the operation inplace on the original object.\n",
      "\n",
      "\n",
      "  thyroid0387_UCI_data[col].fillna(thyroid0387_UCI_data[col].median(), inplace=True)\n",
      "/tmp/ipykernel_25187/2848495166.py:20: FutureWarning: A value is trying to be set on a copy of a DataFrame or Series through chained assignment using an inplace method.\n",
      "The behavior will change in pandas 3.0. This inplace method will never work because the intermediate object on which we are setting values always behaves as a copy.\n",
      "\n",
      "For example, when doing 'df[col].method(value, inplace=True)', try using 'df.method({col: value}, inplace=True)' or df[col] = df[col].method(value) instead, to perform the operation inplace on the original object.\n",
      "\n",
      "\n",
      "  thyroid0387_UCI_data[col].fillna(thyroid0387_UCI_data[col].median(), inplace=True)\n",
      "/tmp/ipykernel_25187/2848495166.py:31: FutureWarning: A value is trying to be set on a copy of a DataFrame or Series through chained assignment using an inplace method.\n",
      "The behavior will change in pandas 3.0. This inplace method will never work because the intermediate object on which we are setting values always behaves as a copy.\n",
      "\n",
      "For example, when doing 'df[col].method(value, inplace=True)', try using 'df.method({col: value}, inplace=True)' or df[col] = df[col].method(value) instead, to perform the operation inplace on the original object.\n",
      "\n",
      "\n",
      "  thyroid0387_UCI_data[col].fillna(mode_value, inplace=True)\n"
     ]
    }
   ],
   "source": [
    "# Identify numerical and categorical columns\n",
    "num_cols = thyroid0387_UCI_data.select_dtypes(include=['int64', 'float64']).columns\n",
    "cat_cols = thyroid0387_UCI_data.select_dtypes(include=['object']).columns\n",
    "\n",
    "# Function to detect outliers using IQR\n",
    "def detect_outliers_iqr(series):\n",
    "    Q1 = series.quantile(0.25)\n",
    "    Q3 = series.quantile(0.75)\n",
    "    IQR = Q3 - Q1\n",
    "    return (series < (Q1 - 1.5 * IQR)) | (series > (Q3 + 1.5 * IQR))\n",
    "\n",
    "# Impute missing values for numerical columns\n",
    "for col in num_cols:\n",
    "    if thyroid0387_UCI_data[col].isnull().sum() > 0:\n",
    "        # Check for outliers\n",
    "        has_outliers = detect_outliers_iqr(thyroid0387_UCI_data[col])\n",
    "        \n",
    "        if has_outliers.any():\n",
    "            # Impute with median if outliers are present\n",
    "            thyroid0387_UCI_data[col].fillna(thyroid0387_UCI_data[col].median(), inplace=True)\n",
    "            print(f\"Column: {col}, Imputation Method: Median\")\n",
    "        else:\n",
    "            # Impute with mean if no outliers are present\n",
    "            thyroid0387_UCI_data[col].fillna(thyroid0387_UCI_data[col].mean(), inplace=True)\n",
    "            print(f\"Column: {col}, Imputation Method: Mean\")\n",
    "\n",
    "# Impute missing values for categorical columns\n",
    "for col in cat_cols:\n",
    "    if thyroid0387_UCI_data[col].isnull().sum() > 0:\n",
    "        mode_value = thyroid0387_UCI_data[col].mode()[0]\n",
    "        thyroid0387_UCI_data[col].fillna(mode_value, inplace=True)\n",
    "        print(f\"Column: {col}, Imputation Method: Mode\")\n",
    "\n",
    "# Check for remaining missing values\n",
    "missing_values_after_imputation = thyroid0387_UCI_data.isnull().sum()\n",
    "print(\"Missing values after imputation:\\n\", missing_values_after_imputation)\n",
    "\n",
    "\n",
    "\n"
   ]
  },
  {
   "cell_type": "markdown",
   "id": "4bcde196-2d18-4653-b934-22d7f472f97f",
   "metadata": {},
   "source": [
    "**A7**"
   ]
  },
  {
   "cell_type": "code",
   "execution_count": 19,
   "id": "baf14686-8d97-40ce-9aef-4a669b16fa5b",
   "metadata": {},
   "outputs": [
    {
     "name": "stdout",
     "output_type": "stream",
     "text": [
      "Before Normalization:\n",
      "          Record ID           age          TSH           T3          TT4  \\\n",
      "count  9.172000e+03   9172.000000  9172.000000  9172.000000  9172.000000   \n",
      "mean   8.529473e+08     73.555822     4.867869     1.950577   108.473796   \n",
      "std    7.581969e+06   1183.976718    23.073462     0.751748    36.621135   \n",
      "min    8.408010e+08      1.000000     0.005000     0.050000     2.000000   \n",
      "25%    8.504090e+08     37.000000     0.590000     1.700000    88.000000   \n",
      "50%    8.510040e+08     55.000000     1.400000     1.900000   104.000000   \n",
      "75%    8.607110e+08     68.000000     2.500000     2.200000   124.000000   \n",
      "max    8.701190e+08  65526.000000   530.000000    18.000000   600.000000   \n",
      "\n",
      "               T4U          FTI          TBG  \n",
      "count  9172.000000  9172.000000  9172.000000  \n",
      "mean      0.974640   113.234959    26.147258  \n",
      "std       0.191373    39.714898     4.172634  \n",
      "min       0.170000     1.400000     0.100000  \n",
      "25%       0.870000    95.000000    26.000000  \n",
      "50%       0.960000   109.000000    26.000000  \n",
      "75%       1.050000   126.000000    26.000000  \n",
      "max       2.330000   881.000000   200.000000  \n",
      "\n",
      "After Normalization with Min-Max scaling :\n",
      "         Record ID          age          TSH           T3          TT4  \\\n",
      "count  9172.000000  9172.000000  9172.000000  9172.000000  9172.000000   \n",
      "mean      0.414296     0.001107     0.009175     0.105882     0.178050   \n",
      "std       0.258611     0.018069     0.043535     0.041880     0.061239   \n",
      "min       0.000000     0.000000     0.000000     0.000000     0.000000   \n",
      "25%       0.327716     0.000549     0.001104     0.091922     0.143813   \n",
      "50%       0.348012     0.000824     0.002632     0.103064     0.170569   \n",
      "75%       0.679105     0.001023     0.004708     0.119777     0.204013   \n",
      "max       1.000000     1.000000     1.000000     1.000000     1.000000   \n",
      "\n",
      "               T4U          FTI          TBG  \n",
      "count  9172.000000  9172.000000  9172.000000  \n",
      "mean      0.372518     0.127143     0.130301  \n",
      "std       0.088599     0.045151     0.020874  \n",
      "min       0.000000     0.000000     0.000000  \n",
      "25%       0.324074     0.106412     0.129565  \n",
      "50%       0.365741     0.122328     0.129565  \n",
      "75%       0.407407     0.141655     0.129565  \n",
      "max       1.000000     1.000000     1.000000  \n"
     ]
    }
   ],
   "source": [
    "from sklearn.preprocessing import MinMaxScaler\n",
    "\n",
    "# Identify numerical columns\n",
    "num_cols = thyroid0387_UCI_data.select_dtypes(include=['int64', 'float64']).columns\n",
    "\n",
    "# Step 2: Check value ranges to determine if normalization is needed\n",
    "print(\"Before Normalization:\")\n",
    "print(thyroid0387_UCI_data[num_cols].describe())\n",
    "print()\n",
    "# Min-Max Normalization\n",
    "min_max_scaler = MinMaxScaler()\n",
    "thyroid0387_UCI_data[num_cols] = min_max_scaler.fit_transform(thyroid0387_UCI_data[num_cols])\n",
    "\n",
    "# Verify normalization by checking the statistics again\n",
    "print(\"After Normalization with Min-Max scaling :\")\n",
    "print(thyroid0387_UCI_data[num_cols].describe())\n"
   ]
  },
  {
   "cell_type": "code",
   "execution_count": null,
   "id": "894b6058-f179-4190-ba49-756867e879c7",
   "metadata": {},
   "outputs": [],
   "source": []
  }
 ],
 "metadata": {
  "kernelspec": {
   "display_name": "Python 3 (ipykernel)",
   "language": "python",
   "name": "python3"
  },
  "language_info": {
   "codemirror_mode": {
    "name": "ipython",
    "version": 3
   },
   "file_extension": ".py",
   "mimetype": "text/x-python",
   "name": "python",
   "nbconvert_exporter": "python",
   "pygments_lexer": "ipython3",
   "version": "3.10.12"
  }
 },
 "nbformat": 4,
 "nbformat_minor": 5
}
